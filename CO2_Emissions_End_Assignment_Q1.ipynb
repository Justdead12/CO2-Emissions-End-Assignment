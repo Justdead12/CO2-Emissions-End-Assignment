{
  "nbformat": 4,
  "nbformat_minor": 0,
  "metadata": {
    "colab": {
      "name": "CO2 Emissions End Assignment Q1.ipynb",
      "provenance": [],
      "collapsed_sections": [],
      "authorship_tag": "ABX9TyNnCc120sXLyp4ff3mYyAMe",
      "include_colab_link": true
    },
    "kernelspec": {
      "name": "python3",
      "display_name": "Python 3"
    },
    "language_info": {
      "name": "python"
    }
  },
  "cells": [
    {
      "cell_type": "markdown",
      "metadata": {
        "id": "view-in-github",
        "colab_type": "text"
      },
      "source": [
        "<a href=\"https://colab.research.google.com/github/Justdead12/CO2-Emissions-End-Assignment/blob/main/CO2_Emissions_End_Assignment_Q1.ipynb\" target=\"_parent\"><img src=\"https://colab.research.google.com/assets/colab-badge.svg\" alt=\"Open In Colab\"/></a>"
      ]
    },
    {
      "cell_type": "code",
      "execution_count": null,
      "metadata": {
        "id": "fBAHTrAjOVPc"
      },
      "outputs": [],
      "source": [
        "import pandas as pd\n",
        "import numpy as np\n",
        "import matplotlib.pyplot as plt\n",
        "%reload_ext google.colab.data_table\n",
        "\n",
        "df1 = pd.read_csv('https://raw.githubusercontent.com/Justdead12/CO2-Emissions-End-Assignment/main/road-vehicles-per-1000-inhabitants-vs-gdp-per-capita.csv')\n",
        "df2 = pd.read_csv('https://raw.githubusercontent.com/Justdead12/CO2-Emissions-End-Assignment/main/annual-co2-emissions-per-country.csv')\n",
        "df3 = pd.read_csv('https://raw.githubusercontent.com/Justdead12/CO2-Emissions-End-Assignment-Q1/main/population.csv')"
      ]
    },
    {
      "cell_type": "code",
      "source": [
        "# Make the dataframe more usefull and organized. The only usefull year is 2014 in this dataframe.\n",
        "df_cars = df1.drop(columns= ['Code', 'Population (historical estimates)', 'Continent'])\n",
        "df_cars = df_cars.rename(columns= {'Motor vehicles per 1000 people (NationMaster (2014))':'Vehicles/1000 People', 'GDP per capita, PPP (constant 2017 international $)':'GDP/Capita', 'Entity': 'Country'})\n",
        "df_cars = df_cars.dropna()\n",
        "df_cars = df_cars.set_index('Country')\n",
        "\n",
        "# Make a list of the top 20 countries with the most vehicles per 1000 people and the highest GDP per capita.\n",
        "top20_most_vehicles = df_cars.sort_values(['Vehicles/1000 People'], ascending=False)[0:20]\n",
        "top20_highest_gdp = df_cars.sort_values(by=['GDP/Capita'], ascending=False)[0:20]\n",
        "\n",
        "# Merge the 2 dataframes, so only the countries in both of the top 20 are shown.\n",
        "top20 = pd.merge(top20_most_vehicles, top20_highest_gdp, on=('Country', 'Year', 'Vehicles/1000 People', 'GDP/Capita'))\n",
        "top20 = top20.drop(columns= ['Year'])"
      ],
      "metadata": {
        "id": "M36sKrGIOuFl"
      },
      "execution_count": null,
      "outputs": []
    },
    {
      "cell_type": "code",
      "source": [
        "# List of non countries.\n",
        "non_country = (['World', 'Asia', 'Africa', 'North America', 'South America', 'Europe', 'Oceania', 'United Kingdom', 'Australia'])\n",
        "\n",
        "# Dataframe with population per country in 2014.\n",
        "population_country = df1.rename(columns= {'Population (historical estimates)':'Population', 'Entity':'Country'})\n",
        "population_country = population_country[(population_country['Year'] == 2014)]\n",
        "population_country = population_country.drop(columns= {'Code', 'Motor vehicles per 1000 people (NationMaster (2014))', 'GDP per capita, PPP (constant 2017 international $)', 'Continent', 'Year'})\n",
        "population_country = population_country.set_index('Country')\n",
        "population_country = population_country.drop(non_country)\n",
        "top20_population = population_country.sort_values(by=['Population'], ascending=False).head(20)\n",
        "\n",
        "# Merge cars and gpd with population.\n",
        "top20 = pd.merge(top20, top20_population, on=('Country'))"
      ],
      "metadata": {
        "id": "Mx-65eV0WBlo"
      },
      "execution_count": null,
      "outputs": []
    },
    {
      "cell_type": "code",
      "source": [
        "# List of non countries.\n",
        "non_country = (['World', 'Upper-middle-income countries', 'High-income countries', 'Lower-middle-income countries', 'Asia', 'Asia (excl. China & India)', 'Africa', \n",
        "                'North America', 'North America (excl. USA)', 'South America', 'Europe', 'European Union (28)', 'Oceania', 'United Kingdom', \n",
        "                'European Union (27)', 'Europe (excl. EU-27)', 'Europe (excl. EU-28)', 'Australia', 'International transport'])\n",
        "\n",
        "# Dataframe with annual emissions per country in 2014.\n",
        "df_emission_annual = df2.drop(columns= 'Code')\n",
        "df_emission_annual = df_emission_annual.rename(columns= {'Entity':'Country'})\n",
        "df_emission_annual = df_emission_annual[(df_emission_annual['Year'] == 2014)]\n",
        "df_emission_annual = df_emission_annual.drop(columns= 'Year')\n",
        "df_emission_annual = df_emission_annual.set_index('Country')\n",
        "df_emission_annual_2014 = df_emission_annual.drop(non_country)\n",
        "top20_emission = df_emission_annual_2014.sort_values(by= 'Annual CO2 emissions', ascending= False).head(20)\n",
        "\n",
        "top20 = pd.merge(top20, top20_emission, on=('Country'))\n",
        "\n",
        "top20"
      ],
      "metadata": {
        "colab": {
          "base_uri": "https://localhost:8080/",
          "height": 133
        },
        "id": "81unb17QdQyV",
        "outputId": "8eec9b6d-b83a-4fa4-baee-a5f1547be1a0"
      },
      "execution_count": null,
      "outputs": [
        {
          "output_type": "execute_result",
          "data": {
            "text/plain": [
              "               Vehicles/1000 People    GDP/Capita   Population  \\\n",
              "Country                                                          \n",
              "United States                 797.0  57213.269531  318673422.0   \n",
              "Germany                       572.0  50845.527344   81450370.0   \n",
              "\n",
              "               Annual CO2 emissions  \n",
              "Country                              \n",
              "United States            5522807202  \n",
              "Germany                   792587770  "
            ],
            "text/html": [
              "\n",
              "  <div id=\"df-f19ebc33-5f2a-47ed-9f6a-343d6eb0c83c\">\n",
              "    <div class=\"colab-df-container\">\n",
              "      <div>\n",
              "<style scoped>\n",
              "    .dataframe tbody tr th:only-of-type {\n",
              "        vertical-align: middle;\n",
              "    }\n",
              "\n",
              "    .dataframe tbody tr th {\n",
              "        vertical-align: top;\n",
              "    }\n",
              "\n",
              "    .dataframe thead th {\n",
              "        text-align: right;\n",
              "    }\n",
              "</style>\n",
              "<table border=\"1\" class=\"dataframe\">\n",
              "  <thead>\n",
              "    <tr style=\"text-align: right;\">\n",
              "      <th></th>\n",
              "      <th>Vehicles/1000 People</th>\n",
              "      <th>GDP/Capita</th>\n",
              "      <th>Population</th>\n",
              "      <th>Annual CO2 emissions</th>\n",
              "    </tr>\n",
              "    <tr>\n",
              "      <th>Country</th>\n",
              "      <th></th>\n",
              "      <th></th>\n",
              "      <th></th>\n",
              "      <th></th>\n",
              "    </tr>\n",
              "  </thead>\n",
              "  <tbody>\n",
              "    <tr>\n",
              "      <th>United States</th>\n",
              "      <td>797.0</td>\n",
              "      <td>57213.269531</td>\n",
              "      <td>318673422.0</td>\n",
              "      <td>5522807202</td>\n",
              "    </tr>\n",
              "    <tr>\n",
              "      <th>Germany</th>\n",
              "      <td>572.0</td>\n",
              "      <td>50845.527344</td>\n",
              "      <td>81450370.0</td>\n",
              "      <td>792587770</td>\n",
              "    </tr>\n",
              "  </tbody>\n",
              "</table>\n",
              "</div>\n",
              "      <button class=\"colab-df-convert\" onclick=\"convertToInteractive('df-f19ebc33-5f2a-47ed-9f6a-343d6eb0c83c')\"\n",
              "              title=\"Convert this dataframe to an interactive table.\"\n",
              "              style=\"display:none;\">\n",
              "        \n",
              "  <svg xmlns=\"http://www.w3.org/2000/svg\" height=\"24px\"viewBox=\"0 0 24 24\"\n",
              "       width=\"24px\">\n",
              "    <path d=\"M0 0h24v24H0V0z\" fill=\"none\"/>\n",
              "    <path d=\"M18.56 5.44l.94 2.06.94-2.06 2.06-.94-2.06-.94-.94-2.06-.94 2.06-2.06.94zm-11 1L8.5 8.5l.94-2.06 2.06-.94-2.06-.94L8.5 2.5l-.94 2.06-2.06.94zm10 10l.94 2.06.94-2.06 2.06-.94-2.06-.94-.94-2.06-.94 2.06-2.06.94z\"/><path d=\"M17.41 7.96l-1.37-1.37c-.4-.4-.92-.59-1.43-.59-.52 0-1.04.2-1.43.59L10.3 9.45l-7.72 7.72c-.78.78-.78 2.05 0 2.83L4 21.41c.39.39.9.59 1.41.59.51 0 1.02-.2 1.41-.59l7.78-7.78 2.81-2.81c.8-.78.8-2.07 0-2.86zM5.41 20L4 18.59l7.72-7.72 1.47 1.35L5.41 20z\"/>\n",
              "  </svg>\n",
              "      </button>\n",
              "      \n",
              "  <style>\n",
              "    .colab-df-container {\n",
              "      display:flex;\n",
              "      flex-wrap:wrap;\n",
              "      gap: 12px;\n",
              "    }\n",
              "\n",
              "    .colab-df-convert {\n",
              "      background-color: #E8F0FE;\n",
              "      border: none;\n",
              "      border-radius: 50%;\n",
              "      cursor: pointer;\n",
              "      display: none;\n",
              "      fill: #1967D2;\n",
              "      height: 32px;\n",
              "      padding: 0 0 0 0;\n",
              "      width: 32px;\n",
              "    }\n",
              "\n",
              "    .colab-df-convert:hover {\n",
              "      background-color: #E2EBFA;\n",
              "      box-shadow: 0px 1px 2px rgba(60, 64, 67, 0.3), 0px 1px 3px 1px rgba(60, 64, 67, 0.15);\n",
              "      fill: #174EA6;\n",
              "    }\n",
              "\n",
              "    [theme=dark] .colab-df-convert {\n",
              "      background-color: #3B4455;\n",
              "      fill: #D2E3FC;\n",
              "    }\n",
              "\n",
              "    [theme=dark] .colab-df-convert:hover {\n",
              "      background-color: #434B5C;\n",
              "      box-shadow: 0px 1px 3px 1px rgba(0, 0, 0, 0.15);\n",
              "      filter: drop-shadow(0px 1px 2px rgba(0, 0, 0, 0.3));\n",
              "      fill: #FFFFFF;\n",
              "    }\n",
              "  </style>\n",
              "\n",
              "      <script>\n",
              "        const buttonEl =\n",
              "          document.querySelector('#df-f19ebc33-5f2a-47ed-9f6a-343d6eb0c83c button.colab-df-convert');\n",
              "        buttonEl.style.display =\n",
              "          google.colab.kernel.accessAllowed ? 'block' : 'none';\n",
              "\n",
              "        async function convertToInteractive(key) {\n",
              "          const element = document.querySelector('#df-f19ebc33-5f2a-47ed-9f6a-343d6eb0c83c');\n",
              "          const dataTable =\n",
              "            await google.colab.kernel.invokeFunction('convertToInteractive',\n",
              "                                                     [key], {});\n",
              "          if (!dataTable) return;\n",
              "\n",
              "          const docLinkHtml = 'Like what you see? Visit the ' +\n",
              "            '<a target=\"_blank\" href=https://colab.research.google.com/notebooks/data_table.ipynb>data table notebook</a>'\n",
              "            + ' to learn more about interactive tables.';\n",
              "          element.innerHTML = '';\n",
              "          dataTable['output_type'] = 'display_data';\n",
              "          await google.colab.output.renderOutput(dataTable, element);\n",
              "          const docLink = document.createElement('div');\n",
              "          docLink.innerHTML = docLinkHtml;\n",
              "          element.appendChild(docLink);\n",
              "        }\n",
              "      </script>\n",
              "    </div>\n",
              "  </div>\n",
              "  "
            ],
            "application/vnd.google.colaboratory.module+javascript": "\n      import \"https://ssl.gstatic.com/colaboratory/data_table/f872b2c2305463fd/data_table.js\";\n\n      window.createDataTable({\n        data: [[\"United States\",\n{\n            'v': 797.0,\n            'f': \"797.0\",\n        },\n{\n            'v': 57213.26953125,\n            'f': \"57213.26953125\",\n        },\n{\n            'v': 318673422.0,\n            'f': \"318673422.0\",\n        },\n{\n            'v': 5522807202,\n            'f': \"5522807202\",\n        }],\n [\"Germany\",\n{\n            'v': 572.0,\n            'f': \"572.0\",\n        },\n{\n            'v': 50845.52734375,\n            'f': \"50845.52734375\",\n        },\n{\n            'v': 81450370.0,\n            'f': \"81450370.0\",\n        },\n{\n            'v': 792587770,\n            'f': \"792587770\",\n        }]],\n        columns: [[\"string\", \"Country\"], [\"number\", \"Vehicles/1000 People\"], [\"number\", \"GDP/Capita\"], [\"number\", \"Population\"], [\"number\", \"Annual CO2 emissions\"]],\n        columnOptions: [{\"width\": \"1px\", \"className\": \"index_column\"}],\n        rowsPerPage: 25,\n        helpUrl: \"https://colab.research.google.com/notebooks/data_table.ipynb\",\n        suppressOutputScrolling: true,\n        minimumWidth: undefined,\n      });\n    "
          },
          "metadata": {},
          "execution_count": 127
        }
      ]
    },
    {
      "cell_type": "code",
      "source": [
        "# The final conclusion of the question 'What is the biggest predictor of a large CO2 output per capita of a country' is the United States\n",
        "# I merged the top 20 of 4 different polution factors into 1 dataframe. If a country was not in both dataframes, the were deleted from the dataframe\n",
        "# At last we are left with only 2 countries, United States and Germany, so they were in all the 4 dataframes in the top20.\n",
        "# And if we take a look at all the 4 categories the United States had the most Vehicles, the highest GDP, the highest population and the highest CO2 emissions."
      ],
      "metadata": {
        "id": "AtnMsrE5FvNk"
      },
      "execution_count": null,
      "outputs": []
    }
  ]
}