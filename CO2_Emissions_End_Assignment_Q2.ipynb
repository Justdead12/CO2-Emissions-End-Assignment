{
  "nbformat": 4,
  "nbformat_minor": 0,
  "metadata": {
    "colab": {
      "name": "CO2 Emissions End Assignment Q2.ipynb",
      "provenance": [],
      "authorship_tag": "ABX9TyOxpeMl/weEtTPQnb7skWRe",
      "include_colab_link": true
    },
    "kernelspec": {
      "name": "python3",
      "display_name": "Python 3"
    },
    "language_info": {
      "name": "python"
    }
  },
  "cells": [
    {
      "cell_type": "markdown",
      "metadata": {
        "id": "view-in-github",
        "colab_type": "text"
      },
      "source": [
        "<a href=\"https://colab.research.google.com/github/Justdead12/CO2-Emissions-End-Assignment/blob/main/CO2_Emissions_End_Assignment_Q2.ipynb\" target=\"_parent\"><img src=\"https://colab.research.google.com/assets/colab-badge.svg\" alt=\"Open In Colab\"/></a>"
      ]
    },
    {
      "cell_type": "code",
      "execution_count": 88,
      "metadata": {
        "id": "U4bKkyELGkPn"
      },
      "outputs": [],
      "source": [
        "import pandas as pd\n",
        "import numpy as np\n",
        "import matplotlib.pyplot as plt\n",
        "%reload_ext google.colab.data_table\n",
        "\n",
        "df1 = pd.read_csv('https://raw.githubusercontent.com/Justdead12/CO2-Emissions-End-Assignment/main/annual-co2-emissions-per-country.csv')\n",
        "df2 = pd.read_csv('https://raw.githubusercontent.com/Justdead12/CO2-Emissions-End-Assignment-Q1/main/population.csv')"
      ]
    },
    {
      "cell_type": "code",
      "source": [
        "non_country = (['World', 'Upper-middle-income countries', 'High-income countries', 'Lower-middle-income countries', 'Asia', 'Asia (excl. China & India)', 'Africa', \n",
        "                'North America', 'North America (excl. USA)', 'South America', 'Europe', 'European Union (28)', 'Oceania', 'United Kingdom', \n",
        "                'European Union (27)', 'Europe (excl. EU-27)', 'Europe (excl. EU-28)', 'Australia', 'International transport'])\n",
        "\n",
        "# Dataframe with population per country after the year 2000.\n",
        "population = df2.drop(columns= 'Code')\n",
        "population = population.rename(columns= {'Entity':'Country', 'Population (historical estimates)':'Population'})\n",
        "population = population[(population['Year'] == 2000)]\n",
        "population = population.set_index('Country')\n",
        "\n",
        "population2 = df2.drop(columns= 'Code')\n",
        "population2 = population2.rename(columns= {'Entity':'Country', 'Population (historical estimates)':'Population'})\n",
        "population2 = population2[(population2['Year'] == 2020)]\n",
        "population2 = population2.set_index('Country')\n",
        "\n",
        "population = pd.concat([population, population2])\n",
        "population = population.sort_values(by=['Country'])\n",
        "\n",
        "# Dataframe of the annual CO2 emission per country after the year 2000.\n",
        "co2_emission = df1.drop(columns= 'Code')\n",
        "co2_emission = co2_emission.rename(columns= {'Entity':'Country'})\n",
        "co2_emission = co2_emission[(co2_emission['Year'] == 2000)]\n",
        "co2_emission = co2_emission.set_index('Country')\n",
        "\n",
        "co2_emission2 = df1.drop(columns= 'Code')\n",
        "co2_emission2 = co2_emission2.rename(columns= {'Entity':'Country'})\n",
        "co2_emission2 = co2_emission2[(co2_emission2['Year'] == 2020)]\n",
        "co2_emission2 = co2_emission2.set_index('Country')\n",
        "\n",
        "co2_emission = pd.concat([co2_emission, co2_emission2])\n",
        "co2_emission = co2_emission.sort_values(by=['Country', 'Year'])\n",
        "\n",
        "# Merge the 2 dataframes to one.\n",
        "emission_population = pd.merge(co2_emission, population, on= ['Country', 'Year'])\n",
        "\n",
        "# Add CO2 Emission per capita and change CO2 per capita.\n",
        "emission_population['CO2 emissions per capita'] = emission_population['Annual CO2 emissions'] / emission_population['Population']\n",
        "emission_population = emission_population.drop(columns= ['Annual CO2 emissions', 'Population'])\n",
        "emission_population['Change CO2 Emission per Capita'] = emission_population['CO2 emissions per capita'].diff(periods=1)\n",
        "\n",
        "# Delete year 2000 so we only keep the change between 2000 and 2020.\n",
        "emission_population = emission_population[(emission_population['Year'] == 2020)]\n",
        "emission_population = emission_population.drop(columns= 'CO2 emissions per capita')\n",
        "emission_population = emission_population.drop(non_country, errors= 'ignore')\n",
        "\n",
        "# Top 20 most change\n",
        "top20_co2 = emission_population['Change CO2 Emission per Capita'].sort_values(ascending=True)[0:20]\n",
        "top20_co2"
      ],
      "metadata": {
        "colab": {
          "base_uri": "https://localhost:8080/"
        },
        "id": "Vf1JgBMHGzGO",
        "outputId": "c4bcd2f9-de1b-4c85-cb48-3d96d757f4e6"
      },
      "execution_count": 90,
      "outputs": [
        {
          "output_type": "execute_result",
          "data": {
            "text/plain": [
              "Country\n",
              "United Arab Emirates              -20.475033\n",
              "Qatar                             -20.387590\n",
              "Aruba                             -19.114852\n",
              "Curacao                           -15.876931\n",
              "Bahrain                            -7.732746\n",
              "United States                      -7.097868\n",
              "Luxembourg                         -6.912974\n",
              "Bonaire Sint Eustatius and Saba    -6.275836\n",
              "Denmark                            -5.642280\n",
              "Kuwait                             -5.278602\n",
              "Ireland                            -5.206950\n",
              "Belgium                            -5.098212\n",
              "Canada                             -4.324879\n",
              "Greece                             -4.282677\n",
              "Singapore                          -4.233838\n",
              "Czechia                            -4.140175\n",
              "Finland                            -3.903644\n",
              "Israel                             -3.499692\n",
              "Germany                            -3.364433\n",
              "Venezuela                          -3.302134\n",
              "Name: Change CO2 Emission per Capita, dtype: float64"
            ]
          },
          "metadata": {},
          "execution_count": 90
        }
      ]
    },
    {
      "cell_type": "code",
      "source": [
        "# The answer to the question 'Which countrys are making the biggest strides in decreasing CO2 output?' is the list above."
      ],
      "metadata": {
        "id": "4JgnbVcqSR23"
      },
      "execution_count": null,
      "outputs": []
    }
  ]
}